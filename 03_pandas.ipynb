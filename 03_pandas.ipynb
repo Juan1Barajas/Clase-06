{
 "cells": [
  {
   "cell_type": "code",
   "execution_count": 1,
   "id": "1f8137c4-bee0-4545-8aa0-a6667f674a79",
   "metadata": {},
   "outputs": [],
   "source": [
    "import pandas as pd\n",
    "\n",
    "FILANAME= \"Dataset/new_york_times_bestsellers.csv\"\n",
    "\n",
    "df= pd.read_csv(FILANAME)\n",
    "\n"
   ]
  },
  {
   "cell_type": "code",
   "execution_count": null,
   "id": "2736354a-36dc-4bf3-a1f1-edee92ac23c0",
   "metadata": {},
   "outputs": [],
   "source": []
  },
  {
   "cell_type": "code",
   "execution_count": null,
   "id": "40cf2db2-d53b-4c26-bba4-7a4e144119f1",
   "metadata": {},
   "outputs": [],
   "source": []
  },
  {
   "cell_type": "code",
   "execution_count": null,
   "id": "0529c1e9-5b2d-4b4b-9c34-2a923bb303c2",
   "metadata": {},
   "outputs": [],
   "source": []
  },
  {
   "cell_type": "code",
   "execution_count": null,
   "id": "4b401d9a-cc90-4d42-b9a0-e6b6928dbc6f",
   "metadata": {},
   "outputs": [],
   "source": []
  }
 ],
 "metadata": {
  "kernelspec": {
   "display_name": "Python 3 (ipykernel)",
   "language": "python",
   "name": "python3"
  },
  "language_info": {
   "codemirror_mode": {
    "name": "ipython",
    "version": 3
   },
   "file_extension": ".py",
   "mimetype": "text/x-python",
   "name": "python",
   "nbconvert_exporter": "python",
   "pygments_lexer": "ipython3",
   "version": "3.10.11"
  }
 },
 "nbformat": 4,
 "nbformat_minor": 5
}
